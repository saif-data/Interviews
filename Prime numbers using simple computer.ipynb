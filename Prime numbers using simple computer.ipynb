{
 "cells": [
  {
   "cell_type": "markdown",
   "metadata": {},
   "source": [
    "## Rules"
   ]
  },
  {
   "cell_type": "markdown",
   "metadata": {},
   "source": [
    "1. Can handle/count natural numbers: 1,2,3,4....\n",
    "2. Can handle relational operators: ==, <, >\n",
    "3. Can handle addition, but not subtraction, multiplication, or division: 1+2+3+4..."
   ]
  },
  {
   "cell_type": "markdown",
   "metadata": {},
   "source": [
    "## Solution"
   ]
  },
  {
   "cell_type": "code",
   "execution_count": 14,
   "metadata": {
    "collapsed": false
   },
   "outputs": [],
   "source": [
    "def isprime (k):\n",
    "    \n",
    "    count = 0\n",
    "    \n",
    "    for x in range(2,k):\n",
    "        y=x\n",
    "        while (y < k):\n",
    "            y += x\n",
    "        else: \n",
    "            if y == k:\n",
    "                count += 1\n",
    "                \n",
    "    if count == 0:\n",
    "        print \"{0} is a prime!\".format(k)\n",
    "    else:\n",
    "        print \"{0} is NOT a prime, and has {1} factors!\".format(k, count+1)"
   ]
  },
  {
   "cell_type": "code",
   "execution_count": 15,
   "metadata": {
    "collapsed": false
   },
   "outputs": [
    {
     "name": "stdout",
     "output_type": "stream",
     "text": [
      "2 is a prime!\n",
      "3 is a prime!\n",
      "5 is a prime!\n",
      "6 is NOT a prime, and has 2 factors!\n",
      "111 is NOT a prime, and has 2 factors!\n",
      "27 is NOT a prime, and has 2 factors!\n",
      "29 is a prime!\n",
      "1167 is NOT a prime, and has 2 factors!\n"
     ]
    }
   ],
   "source": [
    "check=[2,3,5,6,111,27,29, 1167]\n",
    "for x in check:\n",
    "    isprime(x)"
   ]
  },
  {
   "cell_type": "code",
   "execution_count": null,
   "metadata": {
    "collapsed": true
   },
   "outputs": [],
   "source": []
  }
 ],
 "metadata": {
  "kernelspec": {
   "display_name": "Python 2",
   "language": "python",
   "name": "python2"
  },
  "language_info": {
   "codemirror_mode": {
    "name": "ipython",
    "version": 2
   },
   "file_extension": ".py",
   "mimetype": "text/x-python",
   "name": "python",
   "nbconvert_exporter": "python",
   "pygments_lexer": "ipython2",
   "version": "2.7.11"
  }
 },
 "nbformat": 4,
 "nbformat_minor": 0
}
